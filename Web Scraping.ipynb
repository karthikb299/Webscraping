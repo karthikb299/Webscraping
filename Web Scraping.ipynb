{
 "cells": [
  {
   "cell_type": "code",
   "execution_count": 15,
   "metadata": {
    "colab": {
     "base_uri": "https://localhost:8080/"
    },
    "id": "Xttueiwvt8BE",
    "outputId": "0b99de42-266d-4005-dd2b-c290200401ce"
   },
   "outputs": [
    {
     "name": "stdout",
     "output_type": "stream",
     "text": [
      "Requirement already satisfied: requests in f:\\anaconda\\lib\\site-packages (2.27.1)\n",
      "Requirement already satisfied: charset-normalizer~=2.0.0 in f:\\anaconda\\lib\\site-packages (from requests) (2.0.4)\n",
      "Requirement already satisfied: certifi>=2017.4.17 in f:\\anaconda\\lib\\site-packages (from requests) (2021.10.8)\n",
      "Requirement already satisfied: idna<4,>=2.5 in f:\\anaconda\\lib\\site-packages (from requests) (3.3)\n",
      "Requirement already satisfied: urllib3<1.27,>=1.21.1 in f:\\anaconda\\lib\\site-packages (from requests) (1.26.9)\n"
     ]
    },
    {
     "name": "stderr",
     "output_type": "stream",
     "text": [
      "WARNING: Ignoring invalid distribution -rotobuf (f:\\anaconda\\lib\\site-packages)\n",
      "WARNING: Ignoring invalid distribution -rotobuf (f:\\anaconda\\lib\\site-packages)\n",
      "WARNING: Ignoring invalid distribution -rotobuf (f:\\anaconda\\lib\\site-packages)\n",
      "WARNING: Ignoring invalid distribution -rotobuf (f:\\anaconda\\lib\\site-packages)\n",
      "WARNING: Ignoring invalid distribution -rotobuf (f:\\anaconda\\lib\\site-packages)\n",
      "WARNING: Ignoring invalid distribution -rotobuf (f:\\anaconda\\lib\\site-packages)\n"
     ]
    },
    {
     "name": "stdout",
     "output_type": "stream",
     "text": [
      "Requirement already satisfied: beautifulsoup4 in f:\\anaconda\\lib\\site-packages (4.11.1)\n",
      "Requirement already satisfied: soupsieve>1.2 in f:\\anaconda\\lib\\site-packages (from beautifulsoup4) (2.3.1)\n"
     ]
    },
    {
     "name": "stderr",
     "output_type": "stream",
     "text": [
      "WARNING: Ignoring invalid distribution -rotobuf (f:\\anaconda\\lib\\site-packages)\n",
      "WARNING: Ignoring invalid distribution -rotobuf (f:\\anaconda\\lib\\site-packages)\n",
      "WARNING: Ignoring invalid distribution -rotobuf (f:\\anaconda\\lib\\site-packages)\n",
      "WARNING: Ignoring invalid distribution -rotobuf (f:\\anaconda\\lib\\site-packages)\n",
      "WARNING: Ignoring invalid distribution -rotobuf (f:\\anaconda\\lib\\site-packages)\n",
      "WARNING: Ignoring invalid distribution -rotobuf (f:\\anaconda\\lib\\site-packages)\n",
      "WARNING: Ignoring invalid distribution -rotobuf (f:\\anaconda\\lib\\site-packages)\n",
      "WARNING: Ignoring invalid distribution -rotobuf (f:\\anaconda\\lib\\site-packages)\n",
      "WARNING: Ignoring invalid distribution -rotobuf (f:\\anaconda\\lib\\site-packages)\n",
      "WARNING: Ignoring invalid distribution -rotobuf (f:\\anaconda\\lib\\site-packages)\n",
      "WARNING: Ignoring invalid distribution -rotobuf (f:\\anaconda\\lib\\site-packages)\n",
      "WARNING: Ignoring invalid distribution -rotobuf (f:\\anaconda\\lib\\site-packages)\n"
     ]
    },
    {
     "name": "stdout",
     "output_type": "stream",
     "text": [
      "Requirement already satisfied: lxml in f:\\anaconda\\lib\\site-packages (4.8.0)\n"
     ]
    },
    {
     "name": "stderr",
     "output_type": "stream",
     "text": [
      "'apt-get' is not recognized as an internal or external command,\n",
      "operable program or batch file.\n"
     ]
    },
    {
     "name": "stdout",
     "output_type": "stream",
     "text": [
      "Requirement already satisfied: pytesseract in f:\\anaconda\\lib\\site-packages (0.3.10)\n",
      "Requirement already satisfied: Pillow>=8.0.0 in f:\\anaconda\\lib\\site-packages (from pytesseract) (9.0.1)\n",
      "Requirement already satisfied: packaging>=21.3 in f:\\anaconda\\lib\\site-packages (from pytesseract) (21.3)\n",
      "Requirement already satisfied: pyparsing!=3.0.5,>=2.0.2 in f:\\anaconda\\lib\\site-packages (from packaging>=21.3->pytesseract) (3.0.4)\n"
     ]
    },
    {
     "name": "stderr",
     "output_type": "stream",
     "text": [
      "WARNING: Ignoring invalid distribution -rotobuf (f:\\anaconda\\lib\\site-packages)\n",
      "WARNING: Ignoring invalid distribution -rotobuf (f:\\anaconda\\lib\\site-packages)\n",
      "WARNING: Ignoring invalid distribution -rotobuf (f:\\anaconda\\lib\\site-packages)\n",
      "WARNING: Ignoring invalid distribution -rotobuf (f:\\anaconda\\lib\\site-packages)\n",
      "WARNING: Ignoring invalid distribution -rotobuf (f:\\anaconda\\lib\\site-packages)\n",
      "WARNING: Ignoring invalid distribution -rotobuf (f:\\anaconda\\lib\\site-packages)\n"
     ]
    }
   ],
   "source": [
    "# requests - to communicate with servers over web\n",
    "# BeautifulSoup to navigate html\n",
    "# lxml is the preferred html parser (over the default html.parser)\n",
    "# pytesseract a python wrapper for tesseract OCR\n",
    "# Install tesseract through OS (apt for linux and MSI for Windows)\n",
    "!pip install requests\n",
    "!pip install beautifulsoup4\n",
    "!pip install lxml\n",
    "!apt-get install tesseract-ocr\n",
    "!pip install pytesseract\n"
   ]
  },
  {
   "cell_type": "code",
   "execution_count": 16,
   "metadata": {
    "id": "WzY8enH8uFyE"
   },
   "outputs": [],
   "source": [
    "import requests\n",
    "from bs4 import BeautifulSoup"
   ]
  },
  {
   "cell_type": "code",
   "execution_count": 22,
   "metadata": {
    "colab": {
     "base_uri": "https://localhost:8080/"
    },
    "id": "ZDiUPzKPuQkA",
    "outputId": "4e6588c0-7970-4888-ecd4-2adb73ee78c0"
   },
   "outputs": [
    {
     "name": "stdout",
     "output_type": "stream",
     "text": [
      "\n",
      "\n",
      "The Bhagavad Gita (IPA: [ˌbʱɐɡɐʋɐd ˈɡiːtɑː], Sanskrit: भगवद्गीता, romanized: bhagavad-gītā, lit. 'God's Song'),[a] often referred to as the Gita (IAST: gītā), is a 700-verse Hindu scripture, which is part of the epic Mahabharata. The Bhagavad Gita is dated to the second half of the first millennium BCE. Even though Hinduism includes several denominations, the Gita holds a unique pan-Hindu influence as the most prominent sacred text. It has been said that if there is any one text that comes near to embodying the totality of Hindu thought, it is the Bhagavad Gita.\n",
      "\n",
      "The Bhagavad Gita is set in a narrative framework of dialogue between the Pandava prince Arjuna and his charioteer guide Krishna, an avatar of Vishnu. At the start of the Kurukshetra War between the Pandavas and the Kauravas, Arjuna despairs thinking about the violence and death the war will cause in the battle against his kin and becomes emotionally preoccupied with a dilemma. Wondering if he should renounce the war, Arjuna seeks the counsel of Krishna, whose answers and discourse constitute the text. Krishna counsels Arjuna to \"fulfil his Kshatriya (warrior) duty\" for the upholding of dharma. The Krishna–Arjuna dialogue covers a broad range of spiritual topics, touching upon moral and ethical dilemmas, and philosophical issues that go far beyond the war that Arjuna faces. The setting of the text in a battlefield has been interpreted as an allegory for the struggles and vagaries of human life.\n",
      "\n",
      "Summarizing the Upanishadic conceptions of God, the Gita posits the existence of an individual self (Atman) and the supreme self (Brahman) within each being.[note 1]\n",
      "The dialogue between the prince and his charioteer has been interpreted as a metaphor for an immortal dialogue between the human self and God.[note 2] Commentators of Vedanta read varying notions in the Bhagavad Gita about the relationship between the Atman (individual Self) and Brahman (supreme Self); Advaita Vedanta affirms on the non-duality of Atman and Brahman, whereas Vishishtadvaita asserts qualified non-dualism with Atman and Brahman being related but different in certain aspects, while Dvaita Vedanta declares the complete duality of Atman and Brahman.[note 3]\n",
      "\n",
      "As per traditional accounts of Hindu mythology, the Gita was written by Ganesha, as told to him by the sage Veda Vyasa. The Gita forms the chapters 23–40 in book 6 of the Mahabharata called the Bhishma Parva, and forms a central text in the Vaishnava Hindu tradition and prasthanatrayi. The Gita covers the core beliefs of Hinduism; including difference between the transient body and the eternal self, the transmigration of self, actuality of gunas, necessity of doing one's duties, and the importance of detachment. The text analyses the paths of Jñāna, Bhakti, Karma, and Rāja yogas for the purpose of Moksha (spiritual liberation) and asserts that the path of Bhakti (devotion) is the foremost and easiest of all.[note 4] Numerous classical and modern thinkers have written commentaries on the Gita with differing views on its essence and essentials.\n",
      "\n",
      "The gita in the title of the Bhagavad Gita literally means \"song\". Religious leaders and scholars interpret the word Bhagavad in a number of ways. Accordingly, the title has been interpreted as, \"the song of God\"; \"the word of God\" by the theistic schools,[3] \"the words of the Lord\",[4] \"the Divine Song\",[5][page needed][6] and \"Celestial Song\" by others.[7]\n",
      "\n",
      "In India, its Sanskrit name is often written as Shrimad Bhagavad Gita or Shrimad Bhagavadgita (श्रीमद् भगवद् गीता or भगवद्गीता) where the Shrimad prefix is used to denote a high degree of respect. The Bhagavad Gita is not to be confused with the Bhagavata Puran, which is one of the eighteen major Puranas dealing with the life of the Hindu God Krishna and various avatars of Vishnu.[8]\n",
      "\n",
      "The work is also known as the Iswara Gita, the Ananta Gita, the Hari Gita, the Vyasa Gita, or the Gita.[9]\n",
      "\n",
      "Theories on the date of the composition of the Gita vary considerably. The text is generally dated to the second half of the first millennium BCE.[10] Some scholars accept dates from the 5th century BCE to the 2nd century BCE as the probable range, the latter likely. The Hinduism scholar Jeaneane Fowler, in her commentary on the Gita, considers second century BCE to be the probable date of composition.[11] J. A. B. van Buitenen also states that the Gita was likely composed about 200 BCE.[12] According to the Indologist Arvind Sharma, the Gita is generally accepted to be a 2nd-century-BCE text.[13]\n",
      "\n",
      "Kashi Nath Upadhyaya, in contrast, dates it a bit earlier. He states that the Gita was always a part of the Mahabharata, and dating the latter suffices in dating the Gita.[14] On the basis of the estimated dates of Mahabharata as evidenced by exact quotes of it in the Buddhist literature by Asvaghosa (c. 100 CE), Upadhyaya states that the Mahabharata, and therefore the Gita, must have been well known by then for a Buddhist to be quoting it.[14][note 5] This suggests a terminus ante quem (latest date) of the Gita to be sometime prior to the 1st century CE.[14] He cites similar quotes in the dharmasutra texts, the Brahma sutras, and other literature to conclude that the Bhagavad Gita was composed in the fifth or fourth century BCE.[16][note 6] According to Arthur Basham, the context of the Bhagavad Gita suggests that it was composed in an era when the ethics of war were being questioned and renunciation to monastic life was becoming popular.[18] Such an era emerged after the rise of Buddhism and Jainism in the 5th century BCE, and particularly after the semi-legendary life of Ashoka in the 3rd century BCE. Thus, the first version of the Bhagavad Gita may have been composed in or after the 3rd century BCE.[18]\n",
      "\n",
      "Winthrop Sargeant linguistically categorizes the Bhagavad Gita as Epic-Puranic Sanskrit, a language that succeeds Vedic Sanskrit and precedes classical Sanskrit.[19] The text has occasional pre-classical elements of the Vedic Sanskrit language, such as aorists and the prohibitive mā instead of the expected na (not) of classical Sanskrit.[19] This suggests that the text was composed after the Pāṇini era, but before the long compounds of classical Sanskrit became the norm. This would date the text as transmitted by the oral tradition to the later centuries of the 1st-millennium BCE, and the first written version probably to the 2nd or 3rd century CE.[19][20] According to Jeaneane Fowler, \"the dating of the Gita varies considerably\" and depends in part on whether one accepts it to be a part of the early versions of the Mahabharata, or a text that was inserted into the epic at a later date.[21] The earliest \"surviving\" components therefore are believed to be no older than the earliest \"external\" references we have to the Mahabharata epic. The Mahabharata – the world's longest poem – is itself a text that was likely written and compiled over several hundred years, one dated between \"400 BCE or little earlier, and 2nd century CE, though some claim a few parts can be put as late as 400 CE\", states Fowler. The dating of the Gita is thus dependent on the uncertain dating of the Mahabharata. The actual dates of composition of the Gita remain unresolved.[21] While the year and century is uncertain, states Richard Davis,[22] the internal evidence in the text dates the origin of the Gita discourse to the Hindu lunar month of Margashirsha (also called Agrahayana, generally December or January of the Gregorian calendar).[23]\n",
      "\n",
      "In the Indian tradition, the Bhagavad Gita, as well as the epic Mahabharata of which it is a part, is attributed to the sage Vyasa,[24] whose full name was Krishna Dvaipayana, also called Veda-Vyasa.[25] Another Hindu legend states that Vyasa narrated it when the lord Ganesha broke one of his tusks and wrote down the Mahabharata along with the Bhagavad Gita.[26][27][note 7]\n",
      "Scholars consider Vyasa to be a mythical or symbolic author, in part because Vyasa is also the traditional compiler of the Vedas and the Puranas, texts dated to be from different millennia.[26][30][31]\n",
      "\n",
      "Swami Vivekananda, the 19th-century Hindu monk and Vedantist, stated that the Bhagavad Gita may be old but it was mostly unknown in Indian history until the early 8th century when Adi Shankara (Shankaracharya) made it famous by writing his much-followed commentary on it.[32][33] Some infer, states Vivekananda, that \"Shankaracharya was the author of Gita, and that it was he who foisted it into the body of the Mahabharata.\"[32] This attribution to Adi Shankara is unlikely in part because Shankara himself refers to the earlier commentaries on the Bhagavad Gita, and because other Hindu texts and traditions that compete with the ideas of Shankara refer to much older literature referencing the Bhagavad Gita, though much of this ancient secondary literature has not survived into the modern era.[32]\n",
      "\n",
      "J. A. B. van Buitenen, an Indologist known for his translations and scholarship on Mahabharata, finds that the Gita is so contextually and philosophically well knit within the Mahabharata that it was not an independent text that \"somehow wandered into the epic\".[34] The Gita, states van Buitenen, was conceived and developed by the Mahabharata authors to \"bring to a climax and solution the dharmic dilemma of a war\".[34][note 8] According to Alexus McLeod, a scholar of Philosophy and Asian Studies, it is \"impossible to link the Bhagavad Gita to a single author\", and it may be the work of many authors.[26][37] This view is shared by the Indologist Arthur Basham, who states that there were three or more authors or compilers of Bhagavad Gita. This is evidenced by the discontinuous intermixing of philosophical verses with theistic or passionately theistic verses, according to Basham.[38][note 9]\n",
      "\n",
      "The Bhagavad Gita is a prominent and influential Hindu scripture.[39][40] While Hinduism is known for its diversity and the synthesis derived from it, the Bhagavad Gita holds a unique pan-Hindu influence.[41][42] Gerald James Larson – an Indologist and scholar of classical Hindu philosophy, states that \"if there is any one text that comes near to embodying the totality of what it is to be a Hindu, it would be the Bhagavad Gita.\"[39][43] The Bhagavad Gita is part of the Prasthanatrayi, which also includes the Upanishads and the Brahma sutras. These three form the foundational texts of the Vedanta school of Hindu philosophy.[44] The Brahma sutras constitute the Nyāya prasthāna or the \"starting point of reasoning canonical base\", while the principal Upanishads constitute the Sruti prasthāna or the \"starting point of heard scriptures\", and the Bhagavad Gita constitutes the Smriti prasthāna or the \"starting point of remembered canonical base\".[44] While Upanishads focuses more on knowledge and the identity of the self with Brahman, the Bhagavad Gita shifts the emphasis towards devotion and the worship of a personal deity, specifically Krishna.[45] The Bhagavad Gita forms a central text in the Vaishnava tradition.[46][47][48][49][50]\n",
      "\n",
      "The Gita is one of the key texts for Vedanta,[51][52] a school of thought that provides one of the theoretical foundations for Hinduism,[53] and one that has had an enormous influence over time, becoming the central ideology of the Hindu renaissance in the 19th century.[54][note 3] Some Hindus give it the status of an Upanishad, and some consider it to be a \"revealed text\".[55][56][57] There are alternate versions of the Bhagavad Gita (such as the one found in Kashmir), but the basic message behind these texts are not distorted.[58][59][60]\n",
      "\n",
      "The Bhagavad Gita draws heavily from the philosophical ideas presented in the Upanishads, incorporating and expanding upon them throughout the text. For example, in the Bhagavad Gita's second chapter, Krishna explains to Arjuna about the eternal nature of the soul, a concept echoed from the Katha Upanishad. It talks about the concept of karma yoga, mentioned in the Isha Upanishad, and ideal times for departing from life, echoing teachings from the Chandogya Upanishad.[61]\n",
      "\n",
      "The Bhagavad Gita is the sealing achievement of the Hindu synthesis, incorporating its various religious traditions.[2][62][63] The synthesis is at both philosophical and socio-religious levels, states the Gita scholar Keya Maitra.[64] The text refrains from insisting on one right marga (path) to spirituality. It openly synthesizes and inclusively accepts multiple ways of life, harmonizing spiritual pursuits through action (karma), knowledge (jñāna), and devotion (bhakti).[65] According to the Gita translator Radhakrishnan, quoted in a review by Robinson, Krishna's discourse is a \"comprehensive synthesis\" that inclusively unifies the competing strands of Hindu thought such as \"Vedic ritual, Upanishadic wisdom, devotional theism and philosophical insight\".[66] Aurobindo described the text as a synthesis of various Yogas. The Indologist Robert Minor, and others,[web 1] in contrast, state that the Gita is \"more clearly defined as a synthesis of Vedanta, Yoga and Samkhya\" philosophies of Hinduism.[67]\n",
      "\n",
      "The synthesis in Bhagavad Gita addresses the question of what constitutes the virtuous path that is necessary for spiritual liberation or release from the cycles of rebirth (moksha).[68][69] It discusses whether one should renounce a householder lifestyle for a life as an ascetic, or lead a householder life dedicated to one's duty and profession, or pursue a householder life devoted to a personalized God in the revealed form of Krishna. Thus Gita discusses and synthesizes the three dominant trends in Hinduism: enlightenment-based renunciation, dharma-based householder life, and devotion-based theism. According to Eliot Deutsch and Rohit Dalvi, the Bhagavad Gita attempts \"to forge a harmony\" between these three paths.[63][note 10]\n",
      "\n",
      "The Bhagavad Gita's synthetic answer recommends that one must resist the \"either-or\" view, and consider a \"both-and\" view.[70][71][72] It states that the dharmic householder can achieve the same goals as the renouncing monk through \"inner renunciation\" or \"motiveless action\".[68][note 11] One must do the right thing because one has determined that it is right, states Gita, without craving for its fruits, without worrying about the results, loss or gain.[74][75][76] Desires, selfishness, and the craving for fruits can distort one from spiritual living.[75] The Gita synthesis goes further, according to its interpreters such as Swami Vivekananda, and the text states that there is Living God in every human being and the devoted service to this Living God in everyone – without craving for personal rewards – is a means to spiritual development and liberation.[77][78][79] According to Galvin Flood, the teachings in the Gita differ from other Indian religions that encouraged extreme austerity and self-torture of various forms (karsayanta). The Gita disapproves of these, stating that not only is it against tradition but against Krishna himself, because \"Krishna dwells within all beings, in torturing the body the ascetic would be torturing him\", states Flood. Even a monk should strive for \"inner renunciation\" rather than external pretensions.[80]\n",
      "\n",
      "The Gita synthesizes several paths to spiritual realization based on the premise that people are born with different temperaments and tendencies (guna).[81] Smith notes that the text acknowledges that some individuals are more reflective and intellectual, some are affective and engaged by their emotions, some are action-driven, yet others favor experimentation and exploring what works.[81] It then presents different spiritual paths for each personality type respectively: the path of knowledge (jnana yoga), the path of devotion (bhakti yoga), the path of action (karma yoga), and the path of meditation (raja yoga).[81][82] The guna premise is a synthesis of the ideas from the Samkhya school of Hinduism. According to Upadhyaya, the Gita states that none of these paths to spiritual realization is \"intrinsically superior or inferior\", rather they \"converge in one and lead to the same goal\".[83]\n",
      "\n",
      "According to Hiltebeitel, Bhakti forms an essential ingredient of this synthesis, and the text incorporates Bhakti into Vedanta.[84] According to Scheepers, The Bhagavad Gita is a Brahmanical text which uses Shramanic and Yogic terminology to spread the Brahmanic idea of living according to one's duty or dharma, in contrast to the ascetic ideal of liberation by avoiding all karma.[85] According to Galvin Flood and Charles Martin, the Gita rejects the Shramanic path of non-action, emphasizing instead \"the renunciation of the fruits of action\".[86] The Bhagavad Gita, according to Raju, is a great synthesis of impersonal spiritual monism with personal God, of \"the yoga of action with the yoga of transcendence of action, and these again with the yogas of devotion and knowledge\".[2] According to Catherine Cornille, the Gita presented the main beliefs of Hinduism, stressing upon the importance of detachment, duty, prevalence of gunas, difference between body and immortal soul, and its transmigration.[87] The text assessed the paths of Jñāna, Bhakti, Karma, and Rāja yogas for the purpose of Moksha (spiritual liberation) and asserted that the path of Bhakti (devotion) is the foremost and the easiest of them all.[87]\n",
      "\n",
      "The Bhagavad Gita manuscript is found in the sixth book of the Mahabharata manuscripts – the Bhisma-parvan. Therein, in the third section, the Gita forms chapters 23–40, that is 6.3.23 to 6.3.40.[88] The Bhagavad Gita is often preserved and studied on its own, as an independent text with its chapters renumbered from 1 to 18.[88] The Bhagavad Gita manuscripts exist in numerous Indic scripts.[89] These include writing systems that are currently in use, as well as early scripts such as the now dormant Sharada script.[89][90] Variant manuscripts of the Gita have been found on the Indian subcontinent[58][91] Unlike the enormous variations in the remaining sections of the surviving Mahabharata manuscripts, the Gita manuscripts show only minor variations.[58][91]\n",
      "\n",
      "According to Gambhirananda, the old manuscripts may have had 745 verses, though he agrees that “700 verses is the generally accepted historic standard.\"[92] Gambhirananda's view is supported by a few versions of chapter 6.43 of the Mahabharata. According to Gita exegesis scholar Robert Minor, these versions state that the Gita is a text where \"Kesava [Krishna] spoke 574 slokas, Arjuna 84, Sanjaya 41, and Dhritarashtra 1\".[93] An authentic manuscript of the Gita with 745 verses has not been found.[94] Adi Shankara, in his 8th-century commentary, explicitly states that the Gita has 700 verses, which was likely a deliberate declaration to prevent further insertions and changes to the Gita. Since Shankara's time, \"700 verses\" has been the standard benchmark for the critical edition of the Bhagavad Gita.[94]\n",
      "\n",
      "The Bhagavad Gita is a poem written in the Sanskrit language.[95] Its 700 verses[91] are structured into several ancient Indian poetic meters, with the principal being the shloka (Anushtubh chanda). It has 18 chapters in total.[96] Each shloka consists of a couplet, thus the entire text consists of 1,400 lines. Each shloka has two quarter verses with exactly eight syllables. Each of these quarters is further arranged into two metrical feet of four syllables each.[95][note 12] The metered verse does not rhyme.[97] While the shloka is the principal meter in the Gita, it does deploy other elements of Sanskrit prosody (which refers to one of the six Vedangas, or limbs of Vedic statues).[98] At dramatic moments, it uses the tristubh meter found in the Vedas, where each line of the couplet has two quarter verses with exactly eleven syllables.[97]\n",
      "\n",
      "The Gita is a dialogue between Krishna and Arjuna right before the start of the climactic Kurukshetra War in the Hindu epic Mahabharata.[99][note 13] Two massive armies have gathered to destroy each other. The Pandava prince Arjuna asks his charioteer Krishna to drive to the center of the battlefield so that he can get a good look at both the armies and all those \"so eager for war\".[101] He sees that some among his enemies are his own relatives, beloved friends, and revered teachers. He does not want to fight to kill them and is thus filled with doubt and despair on the battlefield.[102] He drops his bow, wonders if he should renounce and just leave the battlefield.[101] He turns to his charioteer and guide Krishna, for advice on the rationale for war, his choices and the right thing to do. The Bhagavad Gita is the compilation of Arjuna's questions and moral dilemma and Krishna's answers and insights that elaborate on a variety of philosophical concepts.[101][103][104]\n",
      "\n",
      "The compiled dialogue goes far beyond the \"rationale for war\"; it touches on many human ethical dilemmas, philosophical issues and life's choices.[101][105] According to Flood and Martin, although the Gita is set in the context of a wartime epic, the narrative is structured to apply to all situations; it wrestles with questions about \"who we are, how we should live our lives, and how should we act in the world\".[106] According to Sargeant, it delves into questions about the \"purpose of life, crisis of self-identity, human Self, human temperaments, and ways for spiritual quest\".[107]\n",
      "\n",
      "The Gita posits the existence of two selfs in an individual,[note 1] and its presentation of Krishna-Arjuna dialogue has been interpreted as a metaphor for an eternal dialogue between the two.[note 2]\n",
      "\n",
      "The Bhagavad Gita contains 18 chapters and 700 verses found in the Bhishma Parva of the epic Mahabharata.[110][web 4] Because of differences in recensions, the verses of the Gita may be numbered in the full text of the Mahabharata as chapters 6.25–42 or as chapters 6.23–40.[web 5] The number of verses in each chapter vary in some manuscripts of the Gita discovered on the Indian subcontinent. However, variant readings are relatively few in contrast to the numerous versions of the Mahabharata it is found embedded in.[91]\n",
      "\n",
      "The original Bhagavad Gita has no chapter titles. Some Sanskrit editions that separate the Gita from the epic as an independent text, as well as translators, however, add chapter titles.[111][web 5] For example, Swami Chidbhavananda describes each of the eighteen chapters as a separate yoga because each chapter, like yoga, \"trains the body and the mind\". He labels the first chapter \"Arjuna Vishada Yogam\" or the \"Yoga of Arjuna's Dejection\".[112] Sir Edwin Arnold titled this chapter in his 1885 translation as \"The Distress of Arjuna\".[4][note 14]\n",
      "\n",
      "The chapters are: \n",
      "\n",
      "Translators have variously titled the first chapter as Arjuna Vishada-yoga, Prathama Adhyaya, The Distress of Arjuna, The War Within, or Arjuna's Sorrow.[4][115][116] The Bhagavad Gita is opened by setting the stage of the Kurukshetra battlefield. Two massive armies representing different loyalties and ideologies face a catastrophic war. With Arjuna is Krishna, not as a participant in the war, but only as his charioteer and counsel. Arjuna requests Krishna to move the chariot between the two armies so he can see those \"eager for this war\". He sees family and friends on the enemy side. Arjuna is distressed and in sorrow.[117] The issue is, states Arvind Sharma, \"is it morally proper to kill?\"[118] This and other moral dilemmas in the first chapter are set in a context where the Hindu epic and Krishna have already extolled ahimsa (non-violence) to be the highest and divine virtue of a human being.[118] The war feels evil to Arjuna and he questions the morality of war. He wonders if it is noble to renounce and leave before the violence starts, or should he fight, and why.[117]\n",
      "\n",
      "Deeds without Expections of the Result\n",
      "\n",
      "॥ कर्मण्येवाधिकारस्ते मा फलेषु कदाचन ।\n",
      "मा कर्मफलहेतुर्भुर्मा ते सङ्गोऽस्त्वाकर्मणि॥\n",
      "\n",
      "One has the right to perform their expected duty,\n",
      "But not to the right to the fruits of action;\n",
      "One should not consider oneself as the doer of the action,\n",
      "Nor should one attach oneself to inaction.\n",
      "\n",
      "- Bhagavad Gita 2 : 47\n",
      "\n",
      "Translators title the chapter as Sankhya Yoga, The Book of Doctrines, Self-Realization, or The Yoga of Knowledge (and Philosophy).[4][115][116] The second chapter begins the philosophical discussions and teachings found in the Gita. The warrior Arjuna whose past had focused on learning the skills of his profession now faces a war he has doubts about. Filled with introspection and questions about the meaning and purpose of life, he asks Krishna about the nature of life, Self, death, afterlife and whether there is a deeper meaning and reality.[119] Krishna teaches Arjuna about the eternal nature of the soul (atman) and the temporary nature of the body, advising him to perform his warrior duty with detachment and without grief. The chapter summarizes the Hindu idea of rebirth, samsara, eternal Self in each person (Self), universal Self present in everyone, various types of yoga, divinity within, the nature of knowledge of the Self and other concepts.[119] The ideas and concepts in the second chapter reflect the framework of the Samkhya and Yoga schools of Hindu philosophy. This chapter is an overview for the remaining sixteen chapters of the Bhagavad Gita.[119][120][121] Mahatma Gandhi memorized the last 19 verses of the second chapter, considering them as his companion in his non-violent movement for social justice during colonial rule.[122]\n",
      "\n",
      "Translators title the chapter as Karma yoga, Virtue in Work, Selfless Service, or The Yoga of Action.[4][115][116] After listening to Krishna's spiritual teachings in Chapter 2, Arjuna gets more confounded and returns to the predicament he faces. He wonders if fighting the war is \"not so important after all\" given Krishna's overview on the pursuit of spiritual wisdom. Krishna replies that there is no way to avoid action (karma), since abstention from work is also an action.[123] Krishna states that Arjuna has an obligation to understand and perform his duty (dharma), because everything is connected by the law of cause and effect. Every man or woman is bound by activity. Those who act selfishly create the Karmic cause and are thereby bound to the effect which may be good or bad.[123] Those who act selflessly for the right cause and strive to do their dharmic duty are doing God's work.[123] Those who act without craving for fruits are free from the Karmic effects because the results never motivate them. Whatever the result, it does not affect them. Their happiness comes from within, and the external world does not bother them.[123][124] According to Flood and Martin, chapter 3 and onwards develops \"a theological response to Arjuna's dilemma\".[125]\n",
      "\n",
      "Translators title the fourth chapter as Jñāna–Karma-Sanyasa yoga, The Religion of Knowledge, Wisdom in Action, or The Yoga of Renunciation of Action through Knowledge.[4][115][116] Krishna reveals that he has taught this yoga to the Vedic sages. Arjuna questions how Krishna could do this, when those sages lived so long ago, and Krishna was born more recently. Krishna reminds him that everyone is in the cycle of rebirths, and while Arjuna does not remember his previous births, he does. Whenever dharma declines and the purpose of life is forgotten by Man, says Krishna, he returns to re-establish dharma.[note 15] Every time he returns, he teaches about the inner Self in all beings. The later verses of the chapter return to the discussion of motiveless action and the need to determine the right action, performing it as one's dharma (duty) while renouncing the results, rewards, fruits. The simultaneous outer action with inner renunciation, states Krishna, is the secret to the life of freedom. Action leads to knowledge, while selfless action leads to spiritual awareness, state the last verses of this chapter.[126] The 4th chapter is the first time where Krishna begins to reveal his divine nature to Arjuna.[127][128]\n",
      "\n",
      "Translators title this chapter as Karma–Sanyasa yoga, Religion by Renouncing Fruits of Works, Renounce and Rejoice, or The Yoga of Renunciation.[4][115][116] The chapter starts by presenting the tension in the Indian tradition between the life of sannyasa (monks who have renounced their household and worldly attachments) and the life of grihastha (householder). Arjuna asks Krishna which path is better.[129] Krishna answers that both are paths to the same goal, but the path of \"selfless action and service\" with inner renunciation is better. The different paths, says Krishna, aim for—and if properly pursued, lead to—Self-knowledge. This knowledge leads to the universal, transcendent Godhead, the divine essence in all beings, to Brahman – to Krishna himself. The final verses of the chapter state that the self-aware who have reached self-realization live without fear, anger, or desire. They are free within, always.[130][131] Chapter 5 shows signs of interpolations and internal contradictions. For example, states Arthur Basham, verses 5.23–28 state that a sage's spiritual goal is to realize the impersonal Brahman, yet the next verse 5.29 states that the goal is to realize the personal God who is Krishna.[38]\n",
      "\n",
      "Selfless service\n",
      "\n",
      "\n",
      "It is not those who lack energy\n",
      "nor those who refrain from action,\n",
      "but those who work without expecting reward\n",
      "who attain the goal of meditation,\n",
      "Theirs is true renunciation(sanyāsā).\n",
      "\n",
      "—Bhagavad Gita 6.1Eknath Easwaran[132][note 16]\n",
      "Translators title the sixth chapter as Dhyana yoga, Religion by Self-Restraint, The Practice of Meditation, or The Yoga of Meditation.[4][115][116] The chapter opens as a continuation of Krishna's teachings about selfless work and the personality of someone who has renounced the fruits that are found in chapter 5. Krishna says that such self-realized people are impartial to friends and enemies, are beyond good and evil, equally disposed to those who support them or oppose them because they have reached the summit of consciousness. The verses 6.10 and after proceed to summarize the principles of Yoga and meditation in the format similar to but simpler than Patanjali's Yogasutra. It discusses who is a true yogi, and what it takes to reach the state where one harbors no malice towards anyone.[138][139] Verse 6.47 emphasizes the significance of soul's faith and loving service to Krishna as the highest form of yoga.[140]\n",
      "\n",
      "Translators title this chapter as Jnana–Vijnana yoga, Religion by Discernment, Wisdom from Realization, or The Yoga of Knowledge and Judgment.[4][115][116] The seventh chapter opens with Krishna continuing his discourse. He discusses jnana (knowledge) and vijnana (realization, understanding) using the Prakriti-Purusha (matter-Self) framework of the Samkhya school of Hindu philosophy, and the Maya-Brahman framework of the Vedanta school. The chapter states that evil is the consequence of ignorance and attachment to the impermanent, the elusive Maya. Maya is described as difficult to overcome, but those who rely on Krishna can easily cross beyond Maya and attain moksha. It states that Self-knowledge and union with Purusha (Krishna) are the highest goal of any spiritual pursuit.[141]\n",
      "\n",
      "Translators title the chapter as Aksara–Brahma yoga, Religion by Devotion to the One Supreme God, The Eternal Godhead, or The Yoga of the Imperishable Brahman.[4][115][116] The chapter opens with Arjuna asking questions such as what is Brahman and what is the nature of karma. Krishna states that his own highest nature is the imperishable Brahman, and that he lives in every creature as the adhyatman. Every being has an impermanent body and an eternal Self, and that \"Krishna as Lord\" lives within every creature. The chapter discusses cosmology, the nature of death and rebirth.[142] This chapter contains eschatology of the Bhagavad Gita. Importance of the last thought before death, differences between material and spiritual worlds, and light and dark paths that a Self takes after death are described.[142] Krishna advises Arjuna about focusing the mind on the Supreme Deity within the heart through yoga, including pranayama and chanting sacred mantra \"Om\" to ensure concentration on Krishna at the time of death.[143]\n",
      "\n",
      "Translators title the ninth chapter as Raja–Vidya–Raja–Guhya yoga, Religion by the Kingly Knowledge and the Kingly Mystery, The Royal Path, or The Yoga of Sovereign Science and Sovereign Secret.[4][115][116] Chapter 9 opens with Krishna continuing his discourse as Arjuna listens. Krishna states that he is everywhere and in everything in an unmanifested form, yet he is not in any way limited by them. Eons end, everything dissolves and then he recreates another eon subjecting them to the laws of Prakriti (nature).[144] He equates himself to being the father and the mother of the universe, to being the Om, to the three Vedas, to the seed, the goal of life, the refuge and abode of all. The chapter recommends devotional worship of Krishna.[144] According to theologian Christopher Southgate, verses of this chapter of the Gita are panentheistic,[145] while German physicist and philosopher Max Bernhard Weinstein deems the work pandeistic.[146] It may, in fact, be neither of them, and its contents may have no definition with previously developed Western terms.\n",
      "\n",
      "Translators title the chapter as Vibhuti–Vistara–yoga, Religion by the Heavenly Perfections, Divine Splendor, or The Yoga of Divine Manifestations.[4][115][116] When Arjuna asks of the opulences (Vibhuti) of Krishna, he explains how all the entities are his forms. He reveals his divine being in greater detail as the ultimate cause of all material and spiritual existence, as one who transcends all opposites and who is beyond any duality. Nevertheless, at Arjuna's behest, Krishna states that the following are his major opulences: He is the atman in all beings, Arjuna's innermost Self, the compassionate Vishnu, Surya, Indra, Shiva-Rudra, Ananta, Yama, as well as the Om, Vedic sages, time, Gayatri mantra, and the science of Self-knowledge. Krishna says, \"Among the Pandavas, I am Arjuna,\" implying he is manifest in all the beings, including Arjuna. He also says that he is Rama when he says, \"Among the wielders of weapons, I am Rama\". Arjuna accepts Krishna as the purushottama (Supreme Being).[147]\n",
      "\n",
      "Translators title the chapter as Vishvarupa–Darshana yoga, The Manifesting of the One and Manifold, The Cosmic Vision, or The Yoga of the Vision of the Cosmic Form.[4][115][116] On Arjuna's request, Krishna displays his \"universal form\" (Viśvarūpa).[148] Arjuna asks Krishna to see the Eternal with his own eyes. The Krishna then \"gives\" him a \"heavenly\" eye so that he can recognize the All-Form Vishvarupa of the Supreme God Vishnu or Krishna. Arjuna sees the divine form, with his face turned all around, as if the light of a thousand suns suddenly burst forth in the sky. And he sees neither end, middle nor beginning. And he sees the gods and the host of beings contained within him. He also sees the Lord of the gods and the universe as the Lord of time, who devours his creatures in his \"maw\". And he sees people rushing to their doom in haste. And the Exalted One says that even the fighters are all doomed to death. And he, Arjuna, is his instrument to kill those who are already \"killed\" by him. Arjuna folds his hands trembling and worships the Most High. \n",
      "This is an idea found in the Rigveda and many later Hindu texts, where it is a symbolism for atman (Self) and Brahman (Absolute Reality) eternally pervading all beings and all existence.[149][150] Chapter 11, states Eknath Eswaran, describes Arjuna entering first into savikalpa samadhi (a particular form), and then nirvikalpa samadhi (a universal form) as he gets an understanding of Krishna. A part of the verse from this chapter was recited by J. Robert Oppenheimer in a 1965 television documentary about the atomic bomb.[148]\n",
      "\n",
      "Translators title this chapter as Bhakti yoga, The Religion of Faith, The Way of Love, or The Yoga of Devotion.[4][115][116] In this chapter, Krishna glorifies the path of love and devotion to God. Krishna describes the process of devotional service (Bhakti yoga). Translator Eknath Easwaran contrasts this \"way of love\" with the \"path of knowledge\" stressed by the Upanishads, saying that \"when God is loved in [a] personal aspect, the way is vastly easier\". He can be projected as \"a merciful father, a divine mother, a wise friend, a passionate beloved, or even a mischievous child\".[151] The text states that combining \"action with inner renunciation\" with the love of Krishna as a personal God leads to peace. In the last eight verses of this chapter, Krishna states that he loves those who have compassion for all living beings, are content with whatever comes their way, and live a detached life that is impartial and selfless, unaffected by fleeting pleasure or pain, neither craving for praise nor depressed by criticism.[151][152]\n",
      "\n",
      "Translators title this chapter as Ksetra–Ksetrajna Vibhaga yoga, Religion by Separation of Matter and Spirit, The Field and the Knower, or The Yoga of Difference between the Field and Field-Knower.[4][115][116] The chapter opens with Krishna continuing his discourse. He describes the difference between the transient perishable physical body (kshetra) and the immutable eternal Self (kshetrajna). The presentation explains the difference between ahamkara (ego) and atman (Self), from there between individual consciousness and universal consciousness. The knowledge of one's true self is linked to the realization of the Self.[153][154] The 13th chapter of the Gita offers the clearest enunciation of the Samkhya philosophy, states Basham, by explaining the difference between field (material world) and the knower (Self), prakriti and purusha.[155] According to Miller, this is the chapter which \"redefines the battlefield as the human body, the material realm in which one struggles to know oneself\" where human dilemmas are presented as a \"symbolic field of interior warfare\".[156]\n",
      "\n",
      "Translators title the fourteenth chapter as Gunatraya–Vibhaga yoga, Religion by Separation from the Qualities, The Forces of Evolution, or The Yoga of the Division of Three Gunas.[4][115][116] Krishna continues his discourse from the previous chapter. Krishna explains the difference between purusha and prakriti, by mapping human experiences to three Guṇas (tendencies, qualities).[157] These are listed as sattva, rajas and tamas. All thoughts, words and actions are filled with sattva (truthfulness, purity, clarity), rajas (movement, energy, passion) or tamas (darkness, inertia, stability). These gunas influence future rebirths, with sattva leading to higher states, rajas to continued material existence, and tamas to lower forms of life.[158] Whoever understands everything that exists as the interaction of these three states of being can gain knowledge, transcend all three gunas and achieve liberation.[159] When asked by Arjuna how he recognizes the one who has conquered the three gunas, Krishna replies that it is one who remains calm and composed when a guna 'arises', who always maintains equanimity, who is steadfast in joy and sorrow, who remains the same when he is reviled or admired, who renounces every action (from the ego), detaches himself from the power of the gunas. Liberation can also be reached by unwavering devotion to Krishna, which enables one to transcend the three gunas and become one with Brahman. All phenomena and individual personalities are thus a combination of all three gunas in varying and ever-changing proportions. The gunas affect the ego, but not the Self, according to the text.[157] This chapter also relies on Samkhya theories.[160][161][162]\n",
      "\n",
      "Translators title the chapter as Purushottama yoga, Religion by Attaining the Supreme Krishna, The Supreme Self, or The Yoga of the Supreme Purusha.[4][115][116] The fifteenth chapter expounds on Krishna's theology, in the Vaishnava Bhakti tradition of Hinduism. Krishna discusses the nature of God wherein Krishna not only transcends the impermanent body (matter) but also transcends the atman (Self) in every being.[163] The chapter uses the metaphor of the Ashvattha (banyan) tree to illustrate the material world's entanglements, emphasizes detachment as the means to liberation, highlights the importance of true knowledge, and explains that those who realize this knowledge transcend the need for Vedic rituals. It follows an image of an upside tree with roots in the sky, without beginning and without end. It is necessary to cut down its shoots (sense objects), branches and the solid root with the axe of equanimity and detachment and thereby reach the original person (adyam purusham).[164] Later, Krishna says that he is known as Purushottama in both common speech and the Veda, sustaining and governing the entire threefold world, and that he is greater than the kshara (perishable), which includes all living beings, and the akshara (imperishable), which is beyond kshara. Whoever truly recognizes this has reached the ultimate goal.[165] According to Franklin Edgerton, the verses in this chapter, in association with select verses in other chapters, make the metaphysics of the Gita to be dualistic. However, its overall thesis, according to Edgerton, is more complex because other verses teach the Upanishadic doctrines and \"through its God the Gita seems after all to arrive at an ultimate monism; the essential part, the fundamental element, in every thing, is after all One — is God.\"[166]\n",
      "\n",
      "Translators title the chapter as Daivasura–Sampad–Vibhaga yoga, The Separateness of the Divine and Undivine, Two Paths, or The Yoga of the Division between the Divine and the Demonic.[4][115][116] According to Easwaran, this is an unusual chapter where Krishna describes two types of human nature: divine (daivi sampad), leading to happiness, and demonic (asuri sampad), leading to suffering. He states that truthfulness, self-restraint, sincerity, love for others, desire to serve others, being detached, avoiding anger, avoiding harm to all living creatures, fairness, compassion and patience are marks of the divine nature. The opposite of these are demonic, such as cruelty, conceit, hypocrisy and being inhumane, states Krishna.[167][168][169] Some of the verses in Chapter 16 may be polemics directed against competing Indian religions, according to Basham.[18] The competing tradition may be the materialists (Charvaka), states Fowler.[169]\n",
      "\n",
      "Translators title the chapter as Shraddhatraya-Vibhaga yoga, Religion by the Threefold Kinds of Faith, The Power of Faith, or The Yoga of the Threefold Faith.[4][115][116] Krishna qualifies various aspects of human life, including faith, thoughts, deeds, and eating habits, in relation to the three gunas (modes): sattva (goodness), rajas (passion), and tamas (ignorance). Krishna explains how these modes influence different aspects of human behavior and spirituality, how one can align with the mode of goodness to advance on their spiritual journey. The final verse of the Chapter stresses that genuine faith (shraddha) is essential for spiritual growth. Actions without faith are meaningless, both in the material and spiritual realms, highlighting the significance of faith in one's spiritual journey.[170]\n",
      "\n",
      "Translators title the chapter as Moksha–Sanyasa yoga, Religion by Deliverance and Renunciation, Freedom and Renunciation, or The Yoga of Liberation and Renunciation.[4][115][116] In the final and longest chapter, the Gita offers a final summary of its teachings in the previous chapters.[171] It gives a comprehensive overview of Bhagavad Gita's teachings, highlighting self-realization, duty, and surrender to Krishna to attain liberation and inner peace.[172] It begins with the discussion of spiritual pursuits through sannyasa (renunciation, monastic life) and spiritual pursuits while living in the world as a householder. It teaches \"karma-phala-tyaga\" (renunciation of the fruits of actions), emphasizing the renunciation of attachment to the outcomes of actions and performing duties with selflessness and devotion.[173]\n",
      "\n",
      "The Gita adopts the Upanishadic concept of Absolute Reality (Brahman), a shift from the earlier ritual-driven Vedic religion to one abstracting and internalizing spiritual experiences.[174][175] According to Jeaneane Fowler, the Gita builds on the Upanishadic Brahman theme, conceptualized to be that which is everywhere, unaffected, constant Absolute, indescribable and nirguna (abstract, without features). This Absolute in the Gita is neither a He nor a She, but a \"neuter principle\", an \"It or That\".[174][175]\n",
      "\n",
      "Like some of the Upanishads, the Gita does not limit itself to the nirguna Brahman. It teaches both the abstract and the personalized Brahman (God), the latter in the form of Krishna.[174][175] It accomplishes this synthesis by projecting the nirguna Brahman as higher than saguna or personalized Brahman, where the nirguna Brahman \"exists when everything else does not\".[179][180] The text blurs any distinction between a personalized God and impersonal absolute reality by amalgamating the two and using the concepts interchangeably in later chapters.[179] This theme has led scholars to call the Gita panentheistic,[174] theistic as well as monistic.[181][2][63]\n",
      "\n",
      "The Gita, states Fowler, \"thoroughly accepts\" atman as a foundational concept.[182] In the Upanishads, this is the Brahmanical idea that all beings have a \"permanent real self\", the true essence, the Self it refers to as Atman (Self).[183][184][185][note 17] In the Upanishads that preceded the Gita, such as the Brihadaranyaka Upanishad, the salvational goal is to know and realize this Self, a knowledge that is devoid of the delusions of the instinctive \"I, mine\" egoism typically connected with the body and material life processes that are impermanent and transient. The Gita accepts atman as the pure, unchanging, ultimate real essence.[188]\n",
      "\n",
      "The Gita considers the world to be transient, all bodies and matter as impermanent. Everything that constitutes prakriti (nature, matter) is process driven and has a finite existence. It is born, grows, matures, decays, and dies. It considers this transient reality as Maya. Like the Upanishads, the Gita focuses on what it considers real in this world of change, impermanence, and finitude.[189][190] To build its theological framework about the world, the text relies on the theories found in the Samkhya and Vedanta schools of Hinduism.[190]\n",
      "\n",
      "The Upanishads developed the equation \"Atman = Brahman\", states Fowler, and this belief is central to the Gita.[189] This equation is, however, interpreted in a number of ways by different sub-schools of Vedanta. In the Gita, the Self of each human being is considered to be identical to every other human being and all beings, but it \"does not support an identity with the Brahman\", according to Fowler.[189] According to Raju, the Gita supports this identity and spiritual monism, but as a form of synthesis with a personal God.[2] According to Edgerton, the authors of the Gita rely on their concept of a personalized God (Krishna) to ultimately arrive at an ultimate monism, where the devotee realizes that Krishna is the essential part, the real fundamental element within everyone and everything. Krishna is simultaneously one and all.[166] According to Huston Smith, the Gita is teaching that \"when one sees the entire universe as pervaded by the single Universal Spirit [Krishna], one contemplates, marvels, and falls in love with its amazing glory. [...] Having experienced that Truth oneself, all doubts are dispelled. This is how the flower of devotion evolves into the fruit of knowledge.\"[191]\n",
      "\n",
      "The Gita teaches several spiritual paths – jnana, bhakti and karma – to the divine. However, states Fowler, it \"does not raise any of these to a status that excludes the others\".[192] The theme that unites these paths in the Gita is \"inner renunciation\" where one is unattached to personal rewards during one's spiritual journey.[192]\n",
      "\n",
      "The Gita teaches the path of Karma yoga in Chapter 3 and others. It upholds the necessity of action.[193] However, this action should \"not simply follow spiritual injunctions\", without any attachment to personal rewards or because of craving for fruits. The Gita teaches, according to Fowler, that the action should be undertaken after proper knowledge has been applied to gain a full perspective on \"what the action should be\".[194][195]\n",
      "\n",
      "The concept of such detached action is also called Nishkama Karma, a term not used in the Gita but equivalent to other terms such as karma-phala-tyaga.[194] This is where one determines what the right action ought to be and then acts while being detached to personal outcomes, to fruits, to success or failure. A karma yogi finds such work inherently fulfilling and satisfying.[196] To a karma yogi, right work done well is a form of prayer,[197] and karma yoga is the path of selfless action.[198]\n",
      "\n",
      "According to Mahatma Gandhi, the object of the Gita is to show the way to attain self-realization, and this \"can be achieved by selfless action, by desireless action; by renouncing fruits of action; by dedicating all activities to God, i.e., by surrendering oneself to Him, body and Self.\" Gandhi called the Gita \"The Gospel of Selfless Action\".[199] According to Jonardon Ganeri, the premise of \"disinterested action\" is one of the important ethical concepts in the Gita.[200]\n",
      "\n",
      "In the Bhagavad Gita, bhakti is characterized as the \"loving devotion, a longing, surrender, trust and adoration\" of the divine Krishna as the ishta-devata.[201] While bhakti is mentioned in many chapters, the idea gathers momentum after verse 6.30, and chapter 12 is where is fully developed. According to Fowler, the bhakti in the Gita does not imply renunciation of \"action\", but the bhakti effort is assisted with \"right knowledge\" and dedication to one's dharma.[201] Theologian Catherine Cornille writes, \"The text [of the Gita] offers a survey of the different possible disciplines for attaining liberation through knowledge (Jnana), action (karma), and loving devotion to God (bhakti), focusing on the latter as both the easiest and the highest path to salvation.\"[202]\n",
      "\n",
      "According to M. R. Sampatkumaran, a Bhagavad Gita scholar, the Gita's message is that mere knowledge of the scriptures cannot lead to final release, but \"devotion, meditation, and worship are essential.\"[203] The Gita likely spawned a \"powerful devotionalism\" movement, states Fowler, because the text and this path was simpler, and available to everyone.[204]\n",
      "\n",
      "Jnana yoga is the path of knowledge, wisdom, and direct realization of the Brahman.[205][206] In the Bhagavad Gita, it is also referred to as buddhi yoga and its goal is self-realization.[207] The text states that this is the path that intellectuals tend to prefer.[208] The chapter 4 of the Bhagavad Gita is dedicated to the general exposition of jnana yoga.[209][210] The Gita praises the path, calling the jnana yogi to be exceedingly dear to Krishna, but adds that the path is steep and difficult.[211]\n",
      "\n",
      "Sivananda's commentary regards the eighteen chapters of the Bhagavad Gita as having a progressive order, by which Krishna leads \"Arjuna up the ladder of Yoga from one rung to another.\"[212] The influential commentator Madhusudana Sarasvati divided the Gita's eighteen chapters into three sections with six chapters each. Swami Gambhirananda characterises Madhusudana Sarasvati's system as a successive approach in which Karma yoga leads to Bhakti yoga, which in turn leads to Jnana yoga:[213]\n",
      "\n",
      "Some scholars treat the \"yoga of meditation\" to be a distinct fourth path taught in the Gita, referring to it as Raja yoga.[81][82][214] Others consider it a progressive stage or a combination of Karma yoga and Bhakti yoga.[215] Some, such as Adi Shankara, have considered its discussion in the 13th chapter of the Gita and elsewhere to be an integral part of Jnana yoga.[216][217]\n",
      "\n",
      "The Gita rejects ascetic life, renunciation as well as Brahminical Vedic ritualism where outward actions or non-actions are considered a means of personal reward in life, after-life or as a means of liberation. Instead it recommends the pursuit of an active life where the individual adopts \"inner renunciation\", acts to fulfill what he determines to be his dharma, without craving for or being concerned about personal rewards, viewing this as an \"inner sacrifice to the personal God for a higher good\".[218][219]\n",
      "\n",
      "According to Edwin Bryant, the Indologist with publications on Krishna-related Hindu traditions, the Gita rejects \"actionless behavior\" found in some Indic monastic traditions. It also \"relegates the sacrificial system of the early Vedic literature to a path that goes nowhere because it is based on desires\", states Bryant.[220]\n",
      "\n",
      "Dharma is a prominent paradigm of the Mahabharata, and it is referenced in the Gita as well. The term dharma has a number of meanings.[221] Fundamentally, it refers to that which is right or just.[221] Contextually, it also means the essence of \"duty, law, class, social norms, ritual and cosmos itself\" in the text, in the sense \"the way things should be in all these different dimensions\".[221] According to Zaehner, the term dharma means \"duty\" in the Gita's context; in verse 2.7, it refers to the \"right [and wrong]\", and in 14.27 to the \"eternal law of righteousness\".[222]\n",
      "\n",
      "Few verses in the Bhagavad Gita deal with dharma, according to the Indologist Paul Hacker, but the theme of dharma is broadly important.[223] In Chapter 1, responding to Arjuna's despondency, Krishna asks him to follow his sva-dharma,[224] \"the dharma that belongs to a particular man (Arjuna) as a member of a particular varna, (i.e., the kshatriya – the warrior varna)\".[225] According to Paul Hacker, the term dharma has additional meanings in the context of Arjuna. It is more broadly, the \"duty\" and a \"metaphysically congealed act\" for Arjuna.[226] According to the Indologist Jacqueline Hirst, the dharma theme is \"of significance only at the beginning and end of the Gita\" and this may have been a way to perhaps link the Gita to the context of the Mahabharata.[227]\n",
      "\n",
      "According to Malinar, \"Arjuna's crisis and some of the arguments put forward to call him to action are connected to the debates on war and peace in the Udyoga Parva.\"[228] The Udyoga Parva presents many views about the nature of a warrior, his duty and what calls for heroic action. While Duryodhana presents it as a matter of status, social norms, and fate, Vidura states that the heroic warrior never submits, knows no fear and has the duty to protect people.[229] The Bhishma Parva sets the stage of two ideologies in conflict and two massive armies gathered for what each considers as a righteous and necessary war. In this context, the Gita advises Arjuna to do his holy duty (sva-dharma) as a warrior: fight and kill.[230][231][232]\n",
      "\n",
      "According to the Indologist Barbara Miller, the text frames heroism not in terms of physical abilities, but instead in terms of effort and inner commitment to fulfill a warrior's dharma in the battlefield.[233] War is depicted as a horror, the impending slaughter a cause for self-doubt, yet at stake is the spiritual struggle against evil.[233] The Gita's message emphasizes that personal moral ambivalence must be addressed, the warrior needs to rise above \"personal and social values\" and understand what is at stake and \"why he must fight\". The text explores the \"paradoxical interconnectedness of disciplined action and freedom\".[233]\n",
      "\n",
      "The first reference to dharma in the Bhagavad Gita occurs in its first verse, where Dhritarashtra refers to the Kurukshetra, the location of the battlefield, as the Field of Dharma, \"The Field of Righteousness or Truth\".[221] According to Fowler, dharma in this verse may refer to the sanatana dharma, \"what Hindus understand as their religion, for it is a term that encompasses wide aspects of religious and traditional thought and is more readily used for religion\".[221] Therefore, \"field of dharma\" implies the field of righteousness, where truth will eventually triumph, states Fowler.[221] According to Jacqueline Hirst, the \"field of dharma\" phrase in the Gita epitomizes that the struggle concerns dharma itself. This dharma has \"resonances at many different levels\".[234]\n",
      "\n",
      "Unlike any other religious scripture, the Bhagavad Gita broadcasts its message in the centre of a battlefield.[235] Several modern Indian writers have interpreted the battlefield setting as an allegory for \"the war within\".[236] Eknath Easwaran writes that the Gita's subject is \"the war within, the struggle for self-mastery that every human being must wage if he or she is to emerge from life victorious\".[237]\n",
      "\n",
      "Swami Nikhilananda, takes Arjuna as an allegory of Ātman, Krishna as an allegory of Brahman, Arjuna's chariot as the body, and Dhritarashtra as the ignorant mind.[note 18] Nikhilananda's allegorical interpretation is shared by Huston Smith.[238] Swami Vivekananda interprets the first discourse in the Gita as well as the \"Kurukshetra war\" allegorically.[239] Vivekananda states that \"when we sum up its esoteric significance, it means the war which is constantly going on within man between the tendencies of good and evil\".[240]\n",
      "\n",
      "Mohandas Karamchand Gandhi, in his commentary on the Gita,[241] interprets the battle as an allegory in which the battlefield is the soul and Arjuna embodies man's higher impulses struggling against evil.[242]\n",
      "\n",
      "In Aurobindo's view, Krishna was a historical figure, but his significance in the Gita is as a \"symbol of the divine dealings with humanity\",[243] while Arjuna typifies a \"struggling human soul\".[244] However, Aurobindo rejected the interpretation that the Gita, and the Mahabharata by extension, is only \"an allegory of the inner life\" and therefore that it has nothing to do with our outward human life and actions.[244][note 19]\n",
      "\n",
      "Other scholars such as Steven Rosen, Laurie L. Patton and Stephen Mitchell have seen in the Gita a religious defense of the warrior class' (Kshatriya Varna) duty (svadharma), which is to wage war with courage. They do not see only an allegorical teaching but also a real defense of just war.[245][246]\n",
      "\n",
      "Indian independence leaders like Lala Lajpat Rai and Bal Gangadhar Tilak saw the Gita as a text which defended war when necessary and used it to promote armed rebellion against colonial rule. Lajpat Rai wrote an article on the \"Message of the Bhagavad Gita\". He saw the main message as the bravery and courage of Arjuna to fight as a warrior.[247] Bal Gangadhar Tilak saw the Gita as defending killing when necessary for the betterment of society, such as, for example, the killing of Afzal Khan.[247]\n",
      "\n",
      "Because by the end of the Gita, Krishna convinces Arjuna that it is his right and duty to fight, the Gita has been argued by some as pro-war, others argue it is neither pro- nor anti-war.[248]\n",
      "\n",
      "Noted author Christopher Isherwood suffered the  death of his father in WWI and saw no serious effort by the allies to avoid plunging head-long into the next war. In his novels, The Berlin Stories, he describes life in Germany as the Nazis rose to power. In the late 1930s, Isherwood, with advice from and influence of Aldous Huxley and Gerald Heard[249] he became a practicing pacifist and Conscientiousness Objector, working with the Quakers, doing alternative service to help settle Jewish refugees fleeing the war.[250][251][252] In 1944, Isherwood worked with Swami Prabhavananda of the Vedanta Society of Southern California to translate the Bhagavad Gita into English.[253] In the Appendix, there is an essay written by Isherwood titled, The Gita and War. He argues that in certain circumstances, it would be quite alright to refuse to fight. In Arjuna's particular circumstances, since it is a righteous war, and he's a warrior by birth and trade, he must fight.[254]\n",
      "\n",
      "...every action, under certain circumstances and for certain people, may be a stepping-stone to spiritual growth—if it is done in the spirit of non-attachment. There is no question, here, of doing evil that good may come. The Gita does not countenance such opportunism. Arjuna is to do the best he knows, in order to pass beyond that best to better.[255]\n",
      "\n",
      "In the Gita, Krishna persuades Arjuna to wage war where the enemy includes some of his own relatives and friends. In light of the Ahimsa (non-violence) teachings in Hindu scriptures, the Gita has been criticized as violating the Ahimsa value, or alternatively, as supporting political violence.[256] The justification of political violence when peaceful protests and all else fails, states Varma, has been a \"fairly common feature of modern Indian political thought\" along with the \"mighty antithesis of Gandhian thought on non-violence\". During the independence movement in India, Hindus considered the active \"burning and drowning of British goods\". While technically illegal under colonial legislation, these acts were viewed as a moral and just war for the sake of liberty and righteous values of the type that the Gita discusses.[257] According to Paul Schaffel the influential Hindu nationalist V.D. Savarkar \"often turned to Hindu scripture such as the Bhagavad Gita, arguing that the text justified violence against those who would harm Mother India.\"[258]\n",
      "\n",
      "V. R. Narla, in his book length critique of the text titled The Truth About the Gita, criticizes the ethical teachings of the Gita. He argues that the ethics of the Gita are so ambiguous, that one can use it to justify any ethical position.[259] Narla argues that the Gita is mainly a theological argument in favor of the warrior ethos.[260] Narla argues that the fact that the Gita tries constantly to make Arjuna kill his kin in order to gain a petty kingdom shows it is not a pacifist work. Narla compares the Krishna of the Gita with a modern-day terrorist, who uses theology to excuse violence.[261] Narla also cites D.D. Kosambi who argued that the apparent moral of the Gita is \"kill your brother if duty calls, without passion; as long as you have faith in Me, all sins are forgiven...\".[262]\n",
      "\n",
      "In his Myth and Reality, the Indian historian D.D. Kosambi argued that the Gita was written as a religious text that could provide support for the actions of the upper castes, including the warrior caste. These sort of exhortations to battle would not have been uncommon in ancient India as it was the job of Indian bards. Kosambi writes that in the Gita, \"the high god repeatedly emphasizes the great virtue of non-killing (ahimsa), yet the entire discourse is an incentive to war.\"[263] He also cites the Gita, which states: \"if slain, you gain heaven; if victorious, the earth; so up, son of Kunti, and concentrate on fighting.\"[263] Kosambi argues that the injunctions and excuses for killing found in the Gita are unethical.[263]\n",
      "\n",
      "The Indian jurist and politician B. R. Ambedkar also saw the Gita's defense of violence based on the eternity of the soul (atman) as unethical. Ambedkar wrote that \"to say that killing is no killing because what is killed is the body and not the soul is an unheard of defense of murder...If Krishna were to appear as a lawyer acting for a client who is being tried for murder and pleaded the defense set out by him in the Bhagavad Gita there is not the slightest doubt that he would be sent to the lunatic asylum.\"[264]\n",
      "\n",
      "In his introduction to his translation of the Gita, Purushottama Lal argues that while Arjuna appears as a pacifist, concerned with ahimsa, Krishna \"is the militarist\" who convinces him to kill.[265] According to Lal, Krishna makes use of a \"startling\" argument to convince Arjuna to kill, which Lal outlines as \"the atman is eternal; only the body dies; so go ahead and kill - you will kill only the body, the atman will remain unaffected [2:19-21].\"[265] Lal states that \"there could hardly be a better example of forked-tongue speciousness.\"[265] Lal further argues that: \"the truth of the matter surely is that no rational refutation is possible of the essential humanist position that killing is wrong...many of the answers given by Krishna appear to be evasive and occasionally sophistic. When logic fails, Krishna apparently resorts to divine magic.\"[265] According to Lal, in the Gita, Krishna \"stuns Arjuna with a glorious 'revelation' of psychedelic intensity.\" This \"confidence trick\" is problematic for Lal, who sees Arjuna's plight as a \"painful and honest problem that Krishna should have faced on its own terms, painfully and honestly, and did not.\"[265]\n",
      "\n",
      "Mahatma Gandhi credited his commitment for ahimsa to the Gita. For Gandhi, the Gita is teaching that people should fight for justice and righteous values, that they should never meekly suffer injustice to avoid a war. According to the Indologist Ananya Vajpeyi, the Gita does not elaborate on the means or stages of war, nor on ahimsa, except for stating that \"ahimsa is virtuous and characterizes an awakened, steadfast, ethical man.\"[266] For Gandhi, states Vajpeyi, ahimsa is the \"relationship between self and other\" as he and his fellow Indians battled against colonial rule. Gandhian ahimsa is in fact \"the essence of the entire Gita\", according to Vajpeyi.[266] The teachings of the Gita on ahimsa are ambiguous, states Arvind Sharma, and this is best exemplified by the fact that Nathuram Godse stated the Gita as his inspiration to do his dharma after he assassinated Mahatma Gandhi.[118] Thomas Merton, the Trappist monk and author of books on Zen Buddhism, concurs with Gandhi and states that the Gita is not teaching violence nor propounding a \"make war\" ideology. Instead, it is teaching peace and discussing one's duty to examine what is right and then act with pure intentions, when one faces difficult and repugnant choices.[267]\n",
      "\n",
      "Liberation or moksha in Vedanta philosophy is not something that can be acquired. Ātman (Self) and Self-knowledge, along with the loss of egotistic ignorance, the goal of moksha, is something that is always present as the essence of the self, and must be realized by each person by one's own effort. While the Upanishads largely uphold such a monistic viewpoint of liberation, the Bhagavad Gita also accommodates the dualistic and theistic aspects of moksha. The Gita, while including impersonal Nirguna Brahman as the goal, mainly revolves around the relationship between the Self and a personal God or Saguna Brahman. A synthesis of knowledge, devotion, and desireless action is offered by Krishna as a spectrum of choices to Arjuna; the same combination is suggested to the reader as a way to moksha.[268] Christopher Chapple---a scholar focusing on Indian religions---in Winthrop Sargeant's translation of the Gita, states that \"In the model presented by the Bhagavad Gita, every aspect of life is in fact a way of salvation.\"[269]\n",
      "\n",
      "According to Dennis Hudson, there is an overlap between Vedic and Tantric rituals within the teachings found in the Bhagavad Gita.[270] He places the Pancaratra Agama in the last three or four centuries of 1st-millennium BCE, and proposes that both the tantric and vedic, the Agama and the Gita share the same Vāsudeva-Krishna roots.[271] Some of the ideas in the Bhagavad Gita connect it to the Shatapatha Brahmana of Yajurveda. The Shatapatha Brahmana, for example, mentions the absolute Purusha who dwells in every human being.\n",
      "\n",
      "According to Hudson, a story in this Vedic text highlights the meaning of the name Vāsudeva as the 'shining one (deva) who dwells (vasu) in all things and in whom all things dwell', and the meaning of Vishnu to be the 'pervading actor'. In Bhagavad Gita, similarly, 'Krishna identified himself both with Vāsudeva, Vishnu and their meanings'.[275][note 20] The ideas at the center of Vedic rituals in Shatapatha Brahmana and the teachings of the Bhagavad Gita revolve around this absolute Person, the primordial genderless absolute, which is the same as the goal of Pancaratra Agama and Tantra.[277]\n",
      "\n",
      "The first English translation of the Bhagavad Gita was published by Charles Wilkins in 1785.[278] The Wilkins translation had an introduction to the Gita by Warren Hastings. Soon the work was translated into other European languages such as French (1787), German, and Russian. In 1849, the Weleyan Mission Press, Bangalore published The Bhagavat-Geeta, Or, Dialogues of Krishna and Arjoon in Eighteen Lectures, with Sanskrit, Canarese and English in parallel columns, edited by Rev. John Garrett, with the effort being supported by Sir Mark Cubbon.[279]\n",
      "\n",
      "In 1981, Larson stated that \"a complete listing of Gita translations and a related secondary bibliography would be nearly endless\".[280]: 514  According to Larson, there is \"a massive translational tradition in English, pioneered by the British, solidly grounded philologically by the French and Germans, provided with its indigenous roots by a rich heritage of modern Indian comment and reflection, extended into various disciplinary areas by Americans, and having generated in our time a broadly based cross-cultural awareness of the importance of the Bhagavad Gita both as an expression of a specifically Indian spirituality and as one of the great religious \"classics\" of all time.\"[280]: 518 \n",
      "\n",
      "According to Sargeant, the Gita is \"said to have been translated at least 200 times, in both poetic and prose forms\".[281] Richard Davis cites a count by Callewaert & Hemraj in 1982 of 1,891 translations of the Bhagavad Gita in 75 languages, including 273 in English.[282] These translations vary,[283] and are in part an interpretative reconstruction of the original Sanskrit text that differ in their \"friendliness to the reader\",[284] and in the amount of \"violence to the original Gita text\".[285][note 21]\n",
      "\n",
      "The translations and interpretations of the Gita have been so diverse that these have been used to support apparently contradictory political and philosophical values. For example, Galvin Flood and Charles Martin note that interpretations of the Gita have been used to support \"pacifism to aggressive nationalism\" in politics, from \"monism to theism\" in philosophy.[290] According to William Johnson, the synthesis of ideas in the Gita is such that it can bear almost any shade of interpretation.[291] A translation \"can never fully reproduce an original and no translation is transparent\", states Richard Davis, but in the case of the Gita the linguistic and cultural distance for many translators is large and steep which adds to the challenge and affects the translation.[292] For some native translators, their personal beliefs, motivations, and subjectivity affect their understanding, their choice of words and interpretation.[293][294][295] Some translations by Indians, with or without Western co-translators, have \"orientalist\", \"apologetic\", \"Neo-Vedantic\" or \"guru phenomenon\" biases.[280]: 525–530 \n",
      "\n",
      "According to the exegesis scholar Robert Minor, the Gita is \"probably the most translated of any Asian text\", but many modern versions heavily reflect the views of the organization or person who does the translating and distribution. In Minor's view, the Harvard scholar Franklin Edgerton's English translation and Richard Garbe's German translation are closer to the text than many others.[297] According to Larson, the Edgerton translation is remarkably faithful, but it is \"harsh, stilted, and syntactically awkward\" with an \"orientalist\" bias and lacks \"appreciation of the text's contemporary religious significance\".[280]: 524 \n",
      "\n",
      "The Gita has also been translated into European languages other than English. In the sixteenth and seventeenth centuries, in the Mughal Empire, multiple Persian translations of the Gita were completed.[298] In 1808, passages from the Gita were part of the first direct translation of Sanskrit into German, appearing in a book through which Friedrich Schlegel became known as the founder of Indian philology in Germany.[299] The most significant French translation of the Gita, according to J. A. B. van Buitenen, was published by Émile Senart in 1922.[300] More recently, a new French translation was produced by the Indologist Alain Porte in 2004.[301] Swami Rambhadracharya released the first Braille version of the scripture, with the original Sanskrit text and a Hindi commentary, on 30 November 2007.[web 6]\n",
      "\n",
      "The Gita Press has published the Gita in multiple Indian languages.[302] R. Raghava Iyengar translated the Gita into Tamil in the sandam metre poetic form.[303] The Bhaktivedanta Book Trust associated with ISKCON has re-translated and published A.C. Bhaktivedanta Swami Prabhupada's 1972 English translation of the Gita in 56 non-Indian languages.[304][305][note 35] Vinoba Bhave has written the Geeta in Marathi as Geetai (or \"Mother Geeta\") in a similar shloka form. Uthaya Sankar SB retold the complete text in Bahasa Malaysia prose as Bhagavad Gita: Dialog Arjuna dan Krishna di Kurukshetra (2021).\n",
      "\n",
      "Paramahansa Yogananda's commentary on the Bhagavad Gita called God Talks with Arjuna: The Bhagavad Gita has been translated into Spanish, German, Thai and Hindi so far. The book is significant in that unlike other commentaries of the Bhagavad Gita, which focus on karma yoga, jnana yoga, and bhakti yoga in relation to the Gita, Yogananda's work stresses the training of one's mind, or raja yoga.[308]\n",
      "\n",
      "Bhagavad Gita integrates various schools of thought, notably Vedanta, Samkhya and Yoga, and other theistic ideas. It remains a popular text for commentators belonging to various philosophical schools. However, its composite nature also leads to varying interpretations of the text and historic scholars have written bhashya (commentaries) on it.[309][310] \n",
      "Many \"classical and modern Hindu\" intellectuals have written commentaries on the Gita.[311] According to Mysore Hiriyanna, the Gita is \"one of the hardest books to interpret, which accounts for the numerous commentaries on it—each differing from the rest in one essential point or the other\".[312]\n",
      "\n",
      "According to Richard Davis, the Gita has attracted much scholarly interest in Indian history and some 227 commentaries have survived in the Sanskrit language alone.[313] It has also attracted commentaries in regional vernacular languages for centuries, such as the one by Sant Dnyaneshwar in Marathi (13th century).[314]\n",
      "\n",
      "The Bhagavad Gita is referenced in the Brahma Sutras and numerous scholars wrote commentaries on it, including Shankara, Bhaskara, Abhinavagupta, Ramanuja, and Madhvacharya.[315][316] Many of these commentators state that the Gita is \"meant to be a moksa-shastra (moksasatra), and not a dharmasastra, an arthasastra or a kamasastra\".[317]\n",
      "\n",
      "The oldest and most influential surviving commentary was published by Adi Shankara (Śaṅkarācārya).[318][319] Shankara interprets the Gita in a monist, nondualistic tradition (Advaita Vedanta).[320] Advaita Vedanta affirms on the non-dualism of Atman and Brahman.[321] Shankara prefaces his comments by stating that the Gita is popular among the laity, that the text has been studied and commented upon by earlier scholars (these texts have not survived), but that \"I have found that to the laity it appears to teach diverse and quite contradictory doctrines\". He calls the Gita \"an epitome of the essentials of the whole Vedic teaching\".[322] To Shankara, the teaching of the Gita is to shift an individual's focus from the outer, impermanent, fleeting objects of desire and senses to the inner, permanent, eternal atman-Brahman-Vasudeva that is identical, in everything and in every being.[323]\n",
      "\n",
      "Abhinavagupta was a theologian and philosopher of the Kashmir Shaivism (Shiva) tradition.[319] He wrote a commentary on the Gita as Gitartha-Samgraha, which has survived into the modern era. The Gita text he commented on is a slightly different recension than the one of Adi Shankara. He interprets its teachings in the Shaiva Advaita (monism) tradition quite similar to Adi Shankara, but with the difference that he considers both Self and matter to be metaphysically real and eternal. Their respective interpretations of jnana yoga are also somewhat different, and Abhinavagupta uses Atman, Brahman, Shiva, and Krishna interchangeably. Abhinavagupta's commentary is notable for its citations of more ancient scholars, in a style similar to Adi Shankara. However, the texts he quotes have not survived into the modern era.[324]\n",
      "\n",
      "Ramanuja was a Hindu theologian, philosopher, and an exponent of the Sri Vaishnavism (Vishnu) tradition in 11th and early 12th century. Like his Vedanta peers, Ramanuja wrote a bhashya (commentary) on the Gita - Gita Bhashya.[325] Ramanuja's commentary disagreed with Adi Shankara's interpretation of the Gita as a text on nondualism (Self and Brahman are identical), and instead interpreted it as a form of dualistic and qualified monism (Vishishtadvaita).[326][327]\n",
      "\n",
      "Madhva, a commentator of the Dvaita (modern taxonomy) Tatvavada (actually quoted by Madhva) Vedanta school,[319] wrote a commentary on the Bhagavad Gita, which exemplifies the thinking of the Tatvavada school (Dvaita Vedanta).[318] According to Christopher Chapelle, in Madhva's school there is \"an eternal and complete distinction between the Supreme, the many Selfs, and matter and its divisions\".[328] His commentary on the Gita is called Gita Bhāshya. Madhva's commentary has attracted secondary works by pontiffs of the Dvaita Vedanta monasteries such as Padmanabha Tirtha, Jayatirtha, and Raghavendra Tirtha.[329]\n",
      "\n",
      "Keśava Kāśmīri Bhaṭṭa, a commentator of Dvaitādvaita Vedanta school, wrote a commentary on the Bhagavad Gita named Tattva-prakāśikā. The text states that Dasasloki—possibly authored by Nimbarka—teaches the essence of the Gita; the Gita tattva prakashika interprets the Gita also in a hybrid monist-dualist manner.[330][331]\n",
      "\n",
      "Other classical commentators include:\n",
      "\n",
      "The Bhagavad Gita has been highly praised, not only by prominent Indians including Mahatma Gandhi and Sarvepalli Radhakrishnan,[364] but also by Aldous Huxley, Henry David Thoreau, J. Robert Oppenheimer,[365] Ralph Waldo Emerson, Carl Jung, Hermann Hesse,[366][367] and Bülent Ecevit among others.[368] The Gita was also criticized by B. R. Ambedkar as a Hindu text that supports varna-dharma and the caste system.[369][370][371]\n",
      "\n",
      "With its translation and study by Western scholars beginning in the early 18th century, the Bhagavad Gita gained a growing appreciation and popularity in the West.[web 1] Novel interpretations of the Gita, along with apologetics on it, have been a part of the modern era revisionism and renewal movements within Hinduism.[372]\n",
      "\n",
      "The world's largest Bhagavad Gita is in the ISKCON Temple Delhi, which is the world's largest sacred book of any religion. It weighs 800 kg and measures over 2.8 metres by 2.0 metres. It was unveiled by Narendra Modi, the Prime Minister of India on 26 February 2019.[373][374]\n",
      "\n",
      "On 27 February 2021, the Bhagavad Gita was launched into outer space on a SD card, aboard a PSLV-C51 rocket launched by the Indian Space Research Organisation (ISRO) from the Satish Dhawan Space Centre in Sriharikota.[375]\n",
      "\n",
      "Philip Glass retold the story of Gandhi's early development as an activist in South Africa through the text of the Gita in the opera Satyagraha (1979). The entire libretto of the opera consists of sayings from the Gita sung in the original Sanskrit.[web 7]\n",
      "\n",
      "In Douglas Cuomo's Arjuna's dilemma, the philosophical dilemma faced by Arjuna is dramatised in operatic form with a blend of Indian and Western music styles.[web 8]\n",
      "\n",
      "The 1993 Sanskrit film, Bhagavad Gita, directed by G. V. Iyer won the 1993 National Film Award for Best Film.[web 9][web 10]\n",
      "\n",
      "The 1995 novel by Steven Pressfield, and its adaptation as the 2000 golf movie The Legend of Bagger Vance by Robert Redford has parallels to the Bhagavad Gita, according to Steven J. Rosen. Steven Pressfield acknowledges that the Gita was his inspiration, the golfer character in his novel is Arjuna, the caddie is Krishna, states Rosen. The movie, however, uses the plot but glosses over the teachings unlike in the novel.[376]\n",
      "\n",
      "\n"
     ]
    }
   ],
   "source": [
    "# Send request to any URL (specified as the first argument to the get function of requests)\n",
    "# Store the response in a variable (object of requests.models.Response)\n",
    "response = requests.get('https://en.wikipedia.org/wiki/Bhagavad_Gita')\n",
    "\n",
    "# Check if the request was successful\n",
    "if response.status_code == 200:\n",
    "    # Pass the HTML response to BeautifulSoup along with the choice of parser\n",
    "    soup = BeautifulSoup(response.text, 'lxml')\n",
    "    \n",
    "    # Extract all the text from the paragraphs\n",
    "    text = ''\n",
    "    for p in soup.findAll('p'):\n",
    "        text += p.get_text() + '\\n'  # Add a newline after each paragraph\n",
    "    \n",
    "    # Print the extracted text\n",
    "    print(text)\n",
    "\n"
   ]
  },
  {
   "cell_type": "code",
   "execution_count": 18,
   "metadata": {
    "id": "qxXhFtYdhfJa"
   },
   "outputs": [],
   "source": [
    "#Extracting Text from images fetched from web\n",
    "from PIL import Image\n",
    "import cv2\n",
    "from io import BytesIO\n",
    "import numpy as np\n",
    "import re"
   ]
  },
  {
   "cell_type": "code",
   "execution_count": 19,
   "metadata": {
    "colab": {
     "base_uri": "https://localhost:8080/"
    },
    "id": "IZ3nIrgPfcZ_",
    "outputId": "49d045cc-f588-4be0-9c3d-2046b7c2a78f"
   },
   "outputs": [
    {
     "data": {
      "text/plain": [
       "True"
      ]
     },
     "execution_count": 19,
     "metadata": {},
     "output_type": "execute_result"
    }
   ],
   "source": [
    "IMG_URL = \"https://i.sstatic.net/RJHkk.png\"\n",
    "httpsession = requests.Session()\n",
    "\n",
    "# Request for image from the server using the URL\n",
    "# The response is going to be a stream of Bytes\n",
    "response = httpsession.get(IMG_URL, stream=True)\n",
    "if response.status_code != 200:\n",
    "  print(\"Cannot reach\")\n",
    "\n",
    "# Before we can open the image in memory, we pack the byte stream into a file object using BytesIO\n",
    "img = Image.open(BytesIO(response.content))\n",
    "\n",
    "# Load the image into OpenCV to make necessary transformations that lead to better text extraction\n",
    "im = cv2.cvtColor(np.array(img), cv2.COLOR_BGR2GRAY)\n",
    "cv2.imwrite('color.png', im)\n",
    "\n",
    "#Invert Color\n",
    "#inverted = np.invert(im)\n",
    "#cv2.imwrite('invert.png', inverted)\n",
    "\n",
    "#Stretch image\n",
    "#height, width = im.shape[:2]\n",
    "#dst = cv2.resize(im, (width, 2*height), interpolation = cv2.INTER_CUBIC)\n",
    "#cv2.imwrite('dst.png', dst)\n",
    "\n",
    "#Erode image\n",
    "#kernel = cv2.getStructuringElement(cv2.MORPH_RECT, (21, 2))\n",
    "#erode = cv2.erode(im, kernel)\n",
    "#cv2.imwrite('erode.png', erode)"
   ]
  },
  {
   "cell_type": "code",
   "execution_count": 7,
   "metadata": {},
   "outputs": [
    {
     "name": "stdout",
     "output_type": "stream",
     "text": [
      "Requirement already satisfied: pytesseract in f:\\anaconda\\lib\\site-packages (0.3.10)\n",
      "Requirement already satisfied: requests in f:\\anaconda\\lib\\site-packages (2.27.1)\n",
      "Requirement already satisfied: beautifulsoup4 in f:\\anaconda\\lib\\site-packages (4.11.1)\n",
      "Requirement already satisfied: Pillow in f:\\anaconda\\lib\\site-packages (9.0.1)\n",
      "Collecting opencv-python-headless\n",
      "  Downloading opencv_python_headless-4.10.0.84-cp37-abi3-win_amd64.whl (38.8 MB)\n",
      "Requirement already satisfied: packaging>=21.3 in f:\\anaconda\\lib\\site-packages (from pytesseract) (21.3)\n",
      "Requirement already satisfied: idna<4,>=2.5 in f:\\anaconda\\lib\\site-packages (from requests) (3.3)\n",
      "Requirement already satisfied: charset-normalizer~=2.0.0 in f:\\anaconda\\lib\\site-packages (from requests) (2.0.4)\n",
      "Requirement already satisfied: certifi>=2017.4.17 in f:\\anaconda\\lib\\site-packages (from requests) (2021.10.8)\n",
      "Requirement already satisfied: urllib3<1.27,>=1.21.1 in f:\\anaconda\\lib\\site-packages (from requests) (1.26.9)\n",
      "Requirement already satisfied: soupsieve>1.2 in f:\\anaconda\\lib\\site-packages (from beautifulsoup4) (2.3.1)\n",
      "Requirement already satisfied: numpy>=1.17.0 in f:\\anaconda\\lib\\site-packages (from opencv-python-headless) (1.26.2)\n",
      "Requirement already satisfied: pyparsing!=3.0.5,>=2.0.2 in f:\\anaconda\\lib\\site-packages (from packaging>=21.3->pytesseract) (3.0.4)\n",
      "Installing collected packages: opencv-python-headless\n",
      "Successfully installed opencv-python-headless-4.10.0.84\n"
     ]
    },
    {
     "name": "stderr",
     "output_type": "stream",
     "text": [
      "WARNING: Ignoring invalid distribution -rotobuf (f:\\anaconda\\lib\\site-packages)\n",
      "WARNING: Ignoring invalid distribution -rotobuf (f:\\anaconda\\lib\\site-packages)\n",
      "WARNING: Ignoring invalid distribution -rotobuf (f:\\anaconda\\lib\\site-packages)\n",
      "WARNING: Ignoring invalid distribution -rotobuf (f:\\anaconda\\lib\\site-packages)\n",
      "WARNING: Ignoring invalid distribution -rotobuf (f:\\anaconda\\lib\\site-packages)\n",
      "WARNING: Ignoring invalid distribution -rotobuf (f:\\anaconda\\lib\\site-packages)\n",
      "WARNING: Ignoring invalid distribution -rotobuf (f:\\anaconda\\lib\\site-packages)\n"
     ]
    }
   ],
   "source": [
    "!pip install pytesseract requests beautifulsoup4 Pillow opencv-python-headless\n"
   ]
  },
  {
   "cell_type": "code",
   "execution_count": 10,
   "metadata": {},
   "outputs": [
    {
     "name": "stdout",
     "output_type": "stream",
     "text": [
      "Tesseract found at C:\\Users\\KARTHIK BURGULA\\tesseract.exe.\n"
     ]
    }
   ],
   "source": [
    "import requests\n",
    "from bs4 import BeautifulSoup\n",
    "from PIL import Image\n",
    "import cv2\n",
    "from io import BytesIO\n",
    "import numpy as np\n",
    "import pytesseract  # Import pytesseract module\n",
    "import json\n",
    "import os  # Import os module\n",
    "\n",
    "# Check if Tesseract is installed at the default location\n",
    "tesseract_path = r'C:\\Users\\KARTHIK BURGULA\\tesseract.exe'\n",
    "if not os.path.exists(tesseract_path):\n",
    "    print(f\"Tesseract not found at {tesseract_path}. Please check the path.\")\n",
    "else:\n",
    "    pytesseract.pytesseract.tesseract_cmd = tesseract_path\n",
    "    print(f\"Tesseract found at {tesseract_path}.\")\n"
   ]
  },
  {
   "cell_type": "code",
   "execution_count": 17,
   "metadata": {
    "colab": {
     "base_uri": "https://localhost:8080/"
    },
    "id": "ICF7pwSkzGyD",
    "outputId": "06718d37-805c-4e14-dbeb-8921adbbc1f8"
   },
   "outputs": [
    {
     "name": "stdout",
     "output_type": "stream",
     "text": [
      "Extracted Text: \n",
      " 2)\n",
      "\n",
      "THERE IS NEITHER THs WORLD\n",
      "NOR THE WORLD D BEYOND,\n",
      "M{NoR HAPPINESS, FOR\n",
      "\n",
      "THE ONE WHO DOUBTS.\n",
      "\n",
      "[('2) THERE', 67.257), ('IS', 91.791), ('NEITHER', 96.976), ('THs', 48.261), ('WORLD', 90.878), ('NOR', 96.926), ('THE', 96.87), ('WORLD', 95.55), ('D', 87.122), ('BEYOND,', 84.818), ('M{NoR', 0.0), ('HAPPINESS,', 83.133), ('FOR', 96.783), ('THE', 0.0), ('ONE', 96.849), ('WHO', 96.623), ('DOUBTS.', 96.91)]\n"
     ]
    }
   ],
   "source": [
    "\n",
    "    # Supply the transformed image to PyTesseract to extract text\n",
    "    pytesseract.pytesseract.tesseract_cmd = r'C:\\Users\\KARTHIK BURGULA\\tesseract.exe'\n",
    "    text = pytesseract.image_to_string(r'C:\\Users\\KARTHIK BURGULA\\Dropbox\\PC\\Desktop\\imageWS.webp')\n",
    "    print(f\"Extracted Text: \\n {text}\")\n",
    "\n",
    "    # Extract more detailed OCR data\n",
    "    text_data = pytesseract.image_to_data(r'C:\\Users\\KARTHIK BURGULA\\Dropbox\\PC\\Desktop\\imageWS.webp', output_type='data.frame')\n",
    "    text_data = text_data[text_data.conf != -1]\n",
    "    lines = text_data.groupby(['page_num', 'par_num', 'line_num', 'word_num'])['text'] \\\n",
    "                     .apply(lambda x: ' '.join(list(x))).tolist()\n",
    "    confs = text_data.groupby(['page_num', 'par_num', 'line_num', 'word_num'])['conf'].mean().tolist()\n",
    "    line_conf = [(lines[i], round(confs[i], 3)) for i in range(len(lines)) if lines[i].strip()]\n",
    "    print(line_conf)"
   ]
  },
  {
   "cell_type": "code",
   "execution_count": 18,
   "metadata": {
    "id": "i9BaH0cU3E7Q"
   },
   "outputs": [],
   "source": [
    "# Dealing with JSON data\n",
    "# When the web server response contains JSON data in the 'text' attribute, use the json library to load the same into python dict\n",
    "import json\n",
    "json_text = '''{\n",
    "\t\"id\": \"0001\",\n",
    "\t\"type\": \"donut\",\n",
    "\t\"name\": \"Cake\",\n",
    "\t\"ppu\": 0.55,\n",
    "\t\"batters\":\n",
    "\t\t{\n",
    "\t\t\t\"batter\":\n",
    "\t\t\t\t[\n",
    "\t\t\t\t\t{ \"id\": \"1001\", \"type\": \"Regular\" },\n",
    "\t\t\t\t\t{ \"id\": \"1002\", \"type\": \"Chocolate\" },\n",
    "\t\t\t\t\t{ \"id\": \"1003\", \"type\": \"Blueberry\" },\n",
    "\t\t\t\t\t{ \"id\": \"1004\", \"type\": \"Devil's Food\" }\n",
    "\t\t\t\t]\n",
    "\t\t},\n",
    "\t\"topping\":\n",
    "\t\t[\n",
    "\t\t\t{ \"id\": \"5001\", \"type\": \"None\" },\n",
    "\t\t\t{ \"id\": \"5002\", \"type\": \"Glazed\" },\n",
    "\t\t\t{ \"id\": \"5005\", \"type\": \"Sugar\" },\n",
    "\t\t\t{ \"id\": \"5007\", \"type\": \"Powdered Sugar\" },\n",
    "\t\t\t{ \"id\": \"5006\", \"type\": \"Chocolate with Sprinkles\" },\n",
    "\t\t\t{ \"id\": \"5003\", \"type\": \"Chocolate\" },\n",
    "\t\t\t{ \"id\": \"5004\", \"type\": \"Maple\" }\n",
    "\t\t]\n",
    "}'''"
   ]
  },
  {
   "cell_type": "code",
   "execution_count": 19,
   "metadata": {
    "colab": {
     "base_uri": "https://localhost:8080/"
    },
    "id": "oPGV9ujW3JZV",
    "outputId": "ef949435-e821-4f28-ba75-b226e3c05294"
   },
   "outputs": [
    {
     "name": "stdout",
     "output_type": "stream",
     "text": [
      "<class 'str'>\n",
      "<class 'dict'>\n",
      "dict_keys(['id', 'type', 'name', 'ppu', 'batters', 'topping'])\n"
     ]
    }
   ],
   "source": [
    "print(type(json_text))\n",
    "json_data = json.loads(json_text)\n",
    "print(type(json_data))\n",
    "print(json_data.keys())"
   ]
  },
  {
   "cell_type": "code",
   "execution_count": null,
   "metadata": {
    "id": "ohwqHpcR4Wp7"
   },
   "outputs": [],
   "source": []
  }
 ],
 "metadata": {
  "colab": {
   "provenance": []
  },
  "kernelspec": {
   "display_name": "Python 3 (ipykernel)",
   "language": "python",
   "name": "python3"
  },
  "language_info": {
   "codemirror_mode": {
    "name": "ipython",
    "version": 3
   },
   "file_extension": ".py",
   "mimetype": "text/x-python",
   "name": "python",
   "nbconvert_exporter": "python",
   "pygments_lexer": "ipython3",
   "version": "3.9.12"
  }
 },
 "nbformat": 4,
 "nbformat_minor": 1
}
